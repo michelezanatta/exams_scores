{
 "cells": [
  {
   "cell_type": "markdown",
   "id": "c423eb93",
   "metadata": {},
   "source": [
    "# Exam scores\n",
    "## Introduction\n",
    "This is a data analysis project taking the concept from the DataCamp competition [Analyzing the effectiveness of test preparation courses](https://app.datacamp.com/learn/competitions/student-exam-scores) and the data from [Royce Kimmons data generators tools](http://roycekimmons.com/tools/generated_data/exams).\n",
    "\n",
    "\n",
    "The data file has the following fields:\n",
    "- \"gender\" - male / female\n",
    "- \"race/ethnicity\" - one of 5 combinations of race/ethnicity\n",
    "- \"parent_education_level\" -  highest education level of either parent\n",
    "- \"lunch\" - whether the student receives free/reduced or standard lunch\n",
    "- \"test_prep_course\" - whether the student took the test preparation course\n",
    "- \"math\" -  exam score in math \n",
    "- \"reading\" -  exam score in reading \n",
    "- \"writing\" -  exam score in writing \n",
    "\n",
    "Ideally, we have been asked to create a report to answer some principal's questions:\n",
    "1. What are the average scores for students with/without the test preparation course, and how effective is the test preparation course?\n",
    "2. What are the average scores for the different parental education levels?\n",
    "5. The principal wants to know if kids who perform well on one subject also score well on the others. Look at the correlations between scores. \n",
    "8. Which major factors contribute to test outcomes?\n",
    "9. What would be the best way to improve student scores on each test?\n",
    "\n",
    "I will try to answer this question during the project. I will not answer them explicitly, but surely you can find the answers while reading. I will provide my own insights and ideas, given what data tell me. Finally, I will tell what I would suggest to the principal in order to improve the tests results.\n",
    "\n",
    "Since I can choose the size of the dataset, I am assuming that the school comprehend 1000 students."
   ]
  },
  {
   "cell_type": "markdown",
   "id": "d192b1e9",
   "metadata": {},
   "source": [
    "## Preparation\n",
    "In this section I import the packages I will need and the data I will use."
   ]
  },
  {
   "cell_type": "code",
   "execution_count": 1,
   "id": "b095ac42",
   "metadata": {},
   "outputs": [],
   "source": [
    "import numpy as np\n",
    "import pandas as pd\n",
    "import matplotlib.pyplot as plt\n",
    "import seaborn as sns\n",
    "from scipy.stats import ttest_ind"
   ]
  },
  {
   "cell_type": "code",
   "execution_count": 2,
   "id": "64b50027",
   "metadata": {},
   "outputs": [],
   "source": [
    "file_path = 'exams.csv'\n",
    "colnames = ['gender', 'race', 'parental_education', 'lunch_fare', 'test_prep', 'math_score', 'reading_score', 'writing_score']\n",
    "data = pd.read_csv(file_path, sep = ',', header = 0, names = colnames)"
   ]
  },
  {
   "cell_type": "markdown",
   "id": "9ad0b6f2",
   "metadata": {},
   "source": [
    "While importing, I changed the column names to make it easier to work and to read."
   ]
  },
  {
   "cell_type": "code",
   "execution_count": 3,
   "id": "4725d6f1",
   "metadata": {},
   "outputs": [
    {
     "data": {
      "text/html": [
       "<div>\n",
       "<style scoped>\n",
       "    .dataframe tbody tr th:only-of-type {\n",
       "        vertical-align: middle;\n",
       "    }\n",
       "\n",
       "    .dataframe tbody tr th {\n",
       "        vertical-align: top;\n",
       "    }\n",
       "\n",
       "    .dataframe thead th {\n",
       "        text-align: right;\n",
       "    }\n",
       "</style>\n",
       "<table border=\"1\" class=\"dataframe\">\n",
       "  <thead>\n",
       "    <tr style=\"text-align: right;\">\n",
       "      <th></th>\n",
       "      <th>gender</th>\n",
       "      <th>race</th>\n",
       "      <th>parental_education</th>\n",
       "      <th>lunch_fare</th>\n",
       "      <th>test_prep</th>\n",
       "      <th>math_score</th>\n",
       "      <th>reading_score</th>\n",
       "      <th>writing_score</th>\n",
       "    </tr>\n",
       "  </thead>\n",
       "  <tbody>\n",
       "    <tr>\n",
       "      <th>0</th>\n",
       "      <td>male</td>\n",
       "      <td>group C</td>\n",
       "      <td>bachelor's degree</td>\n",
       "      <td>free/reduced</td>\n",
       "      <td>none</td>\n",
       "      <td>43</td>\n",
       "      <td>45</td>\n",
       "      <td>41</td>\n",
       "    </tr>\n",
       "    <tr>\n",
       "      <th>1</th>\n",
       "      <td>female</td>\n",
       "      <td>group C</td>\n",
       "      <td>some high school</td>\n",
       "      <td>free/reduced</td>\n",
       "      <td>none</td>\n",
       "      <td>60</td>\n",
       "      <td>67</td>\n",
       "      <td>65</td>\n",
       "    </tr>\n",
       "    <tr>\n",
       "      <th>2</th>\n",
       "      <td>male</td>\n",
       "      <td>group E</td>\n",
       "      <td>high school</td>\n",
       "      <td>standard</td>\n",
       "      <td>completed</td>\n",
       "      <td>80</td>\n",
       "      <td>71</td>\n",
       "      <td>70</td>\n",
       "    </tr>\n",
       "    <tr>\n",
       "      <th>3</th>\n",
       "      <td>male</td>\n",
       "      <td>group C</td>\n",
       "      <td>some college</td>\n",
       "      <td>standard</td>\n",
       "      <td>none</td>\n",
       "      <td>73</td>\n",
       "      <td>71</td>\n",
       "      <td>66</td>\n",
       "    </tr>\n",
       "    <tr>\n",
       "      <th>4</th>\n",
       "      <td>female</td>\n",
       "      <td>group C</td>\n",
       "      <td>some college</td>\n",
       "      <td>standard</td>\n",
       "      <td>none</td>\n",
       "      <td>66</td>\n",
       "      <td>60</td>\n",
       "      <td>63</td>\n",
       "    </tr>\n",
       "  </tbody>\n",
       "</table>\n",
       "</div>"
      ],
      "text/plain": [
       "   gender     race parental_education    lunch_fare  test_prep  math_score  \\\n",
       "0    male  group C  bachelor's degree  free/reduced       none          43   \n",
       "1  female  group C   some high school  free/reduced       none          60   \n",
       "2    male  group E        high school      standard  completed          80   \n",
       "3    male  group C       some college      standard       none          73   \n",
       "4  female  group C       some college      standard       none          66   \n",
       "\n",
       "   reading_score  writing_score  \n",
       "0             45             41  \n",
       "1             67             65  \n",
       "2             71             70  \n",
       "3             71             66  \n",
       "4             60             63  "
      ]
     },
     "execution_count": 3,
     "metadata": {},
     "output_type": "execute_result"
    }
   ],
   "source": [
    "data.head()"
   ]
  },
  {
   "cell_type": "code",
   "execution_count": 4,
   "id": "c6e81485",
   "metadata": {},
   "outputs": [
    {
     "name": "stdout",
     "output_type": "stream",
     "text": [
      "The shape of the dataset is: (1000, 8)\n"
     ]
    }
   ],
   "source": [
    "print('The shape of the dataset is: {}'.format(data.shape))"
   ]
  },
  {
   "cell_type": "markdown",
   "id": "9edd6f88",
   "metadata": {},
   "source": [
    "## Data Exploratory and Analysis\n",
    "We give a look at the data."
   ]
  },
  {
   "cell_type": "code",
   "execution_count": 8,
   "id": "8ea3739a",
   "metadata": {},
   "outputs": [
    {
     "name": "stdout",
     "output_type": "stream",
     "text": [
      "Some information about the data\n",
      "\n",
      "<class 'pandas.core.frame.DataFrame'>\n",
      "RangeIndex: 1000 entries, 0 to 999\n",
      "Data columns (total 8 columns):\n",
      " #   Column              Non-Null Count  Dtype \n",
      "---  ------              --------------  ----- \n",
      " 0   gender              1000 non-null   object\n",
      " 1   race                1000 non-null   object\n",
      " 2   parental_education  1000 non-null   object\n",
      " 3   lunch_fare          1000 non-null   object\n",
      " 4   test_prep           1000 non-null   object\n",
      " 5   math_score          1000 non-null   int64 \n",
      " 6   reading_score       1000 non-null   int64 \n",
      " 7   writing_score       1000 non-null   int64 \n",
      "dtypes: int64(3), object(5)\n",
      "memory usage: 62.6+ KB\n",
      "None\n",
      "        math_score  reading_score  writing_score\n",
      "count  1000.000000    1000.000000     1000.00000\n",
      "mean     66.896000      70.271000       68.99500\n",
      "std      16.023731      15.081944       15.73272\n",
      "min      15.000000      21.000000       17.00000\n",
      "25%      56.000000      60.000000       59.00000\n",
      "50%      67.000000      71.000000       70.00000\n",
      "75%      79.000000      81.000000       81.00000\n",
      "max     100.000000     100.000000      100.00000\n"
     ]
    }
   ],
   "source": [
    "print('Some information about the data\\n')\n",
    "print(data.info())\n",
    "print(data.describe())"
   ]
  },
  {
   "cell_type": "code",
   "execution_count": 9,
   "id": "519d0ec6",
   "metadata": {},
   "outputs": [
    {
     "name": "stdout",
     "output_type": "stream",
     "text": [
      "Column: gender\n",
      "Number of different values: 2\n",
      "Values: ['male' 'female']\n",
      "\n",
      "Column: race\n",
      "Number of different values: 5\n",
      "Values: ['group C' 'group E' 'group D' 'group B' 'group A']\n",
      "\n",
      "Column: parental_education\n",
      "Number of different values: 6\n",
      "Values: [\"bachelor's degree\" 'some high school' 'high school' 'some college'\n",
      " \"associate's degree\" \"master's degree\"]\n",
      "\n",
      "Column: lunch_fare\n",
      "Number of different values: 2\n",
      "Values: ['free/reduced' 'standard']\n",
      "\n",
      "Column: test_prep\n",
      "Number of different values: 2\n",
      "Values: ['none' 'completed']\n",
      "\n",
      "Column: math_score\n",
      "Number of different values: 76\n",
      "Values: [ 43  60  80  73  66  79  58  26  89  53  86  57  68  67  82  63  92  84\n",
      "  52  74  45  69  99  61  81  64  42  71  55  49  50 100  78  85  40  76\n",
      "  56  97  70  54  88  46  72  75  59  87  51  41  93  62  90  77  44  48\n",
      "  34  65  31  39  15  36  32  95  94  96  98  83  33  47  29  91  30  37\n",
      "  35  38  20  25]\n",
      "\n",
      "Column: reading_score\n",
      "Number of different values: 72\n",
      "Values: [ 45  67  71  60  75  56  48  73  54  96  57  74  79  97  76  78  59  92\n",
      "  58  65  90  64  95  61  72  62  69  83  55  86  82  87  81  52  84  98\n",
      "  93  70 100  38  53  68  99  77  89  66  47  32  43  50  36  85  49  94\n",
      "  91  42  44  80  34  28  63  46  41  51  88  21  33  35  23  29  37  40]\n",
      "\n",
      "Column: writing_score\n",
      "Number of different values: 76\n",
      "Values: [ 41  65  70  66  63  80  49  42 100  56  62  73  74  96  71  53  75  61\n",
      "  82  58  60  85  94  64  57  59  95  90  67  45  84  86  91  38  83  51\n",
      "  68  78  39  93  55  79  76  77  52  72  88  43  54  48  50  25  37  98\n",
      "  81  87  69  32  30  44  21  97  47  35  92  17  89  33  31  36  28  40\n",
      "  34  99  46  27]\n",
      "\n"
     ]
    }
   ],
   "source": [
    "for column in data.columns:\n",
    "    print('Column: {}\\nNumber of different values: {}\\nValues: {}\\n'.format(\n",
    "        column, data[column].unique().size, data[column].unique()\n",
    "        ))"
   ]
  },
  {
   "cell_type": "markdown",
   "id": "629fd5db",
   "metadata": {},
   "source": [
    "Three features are binary features, and **parental level of education** and **race/ethinicity** are categorical. The scores have large ranges - 21 to 100 the narrowest - but they are only integers. We don't have <code>nan</code> values. \n",
    "\n",
    "We note that for the **parental level of education** we have the categories of *'some high school'* and *'high school'*, thus I will merge them into one category in order to make analysis more accurate."
   ]
  },
  {
   "cell_type": "code",
   "execution_count": 10,
   "id": "649bd407",
   "metadata": {},
   "outputs": [
    {
     "name": "stdout",
     "output_type": "stream",
     "text": [
      "Values of parental level of education after the replacement:\n",
      "[\"bachelor's degree\" 'high school' 'some college' \"associate's degree\"\n",
      " \"master's degree\"]\n"
     ]
    }
   ],
   "source": [
    "data['parental_education'].replace({'some high school' : 'high school'}, inplace = True)\n",
    "print('Values of parental level of education after the replacement:\\n{}'.format(data['parental_education'].unique()))"
   ]
  },
  {
   "cell_type": "markdown",
   "id": "6a0da109",
   "metadata": {},
   "source": [
    "### EDA\n",
    "First, I will look if the scores on the different tests -math, reading and writing - are correlated."
   ]
  },
  {
   "cell_type": "markdown",
   "id": "8fe67fd1",
   "metadata": {},
   "source": [
    "#### Scores tests correlation"
   ]
  },
  {
   "cell_type": "code",
   "execution_count": 11,
   "id": "d64c2fe7",
   "metadata": {},
   "outputs": [
    {
     "name": "stdout",
     "output_type": "stream",
     "text": [
      "               reading_score  writing_score  math_score\n",
      "reading_score       1.000000       0.958888    0.832769\n",
      "writing_score       0.958888       1.000000    0.820928\n",
      "math_score          0.832769       0.820928    1.000000\n"
     ]
    }
   ],
   "source": [
    "scores = data.loc[:, ['reading_score', 'writing_score', 'math_score']]\n",
    "\n",
    "print(scores.corr())"
   ]
  },
  {
   "cell_type": "markdown",
   "id": "5bc335b6",
   "metadata": {},
   "source": [
    "We can see that the writing and reading scores are strongly correlated, and we have a good correlation with the math score for both. We can see better the results in the following plot."
   ]
  },
  {
   "cell_type": "code",
   "execution_count": 12,
   "id": "d59923a1",
   "metadata": {},
   "outputs": [
    {
     "data": {
      "image/png": "[encoded data removed]",
      "text/plain": [
       "<Figure size 540x540 with 12 Axes>"
      ]
     },
     "metadata": {
      "needs_background": "light"
     },
     "output_type": "display_data"
    }
   ],
   "source": [
    "mask = ['math_score', 'reading_score', 'writing_score']\n",
    "\n",
    "_ = sns.pairplot(data[mask])"
   ]
  },
  {
   "cell_type": "markdown",
   "id": "92beb5bd",
   "metadata": {},
   "source": [
    "We see also that the scores have a distribution similar to a normal distribution.\n",
    "\n",
    "Next, I will create a new column named <code>total_score</code> summing the results obtained in the three tests."
   ]
  },
  {
   "cell_type": "code",
   "execution_count": 13,
   "id": "20563f25",
   "metadata": {},
   "outputs": [
    {
     "data": {
      "text/html": [
       "<div>\n",
       "<style scoped>\n",
       "    .dataframe tbody tr th:only-of-type {\n",
       "        vertical-align: middle;\n",
       "    }\n",
       "\n",
       "    .dataframe tbody tr th {\n",
       "        vertical-align: top;\n",
       "    }\n",
       "\n",
       "    .dataframe thead th {\n",
       "        text-align: right;\n",
       "    }\n",
       "</style>\n",
       "<table border=\"1\" class=\"dataframe\">\n",
       "  <thead>\n",
       "    <tr style=\"text-align: right;\">\n",
       "      <th></th>\n",
       "      <th>gender</th>\n",
       "      <th>race</th>\n",
       "      <th>parental_education</th>\n",
       "      <th>lunch_fare</th>\n",
       "      <th>test_prep</th>\n",
       "      <th>math_score</th>\n",
       "      <th>reading_score</th>\n",
       "      <th>writing_score</th>\n",
       "      <th>total_score</th>\n",
       "    </tr>\n",
       "  </thead>\n",
       "  <tbody>\n",
       "    <tr>\n",
       "      <th>0</th>\n",
       "      <td>male</td>\n",
       "      <td>group C</td>\n",
       "      <td>bachelor's degree</td>\n",
       "      <td>free/reduced</td>\n",
       "      <td>none</td>\n",
       "      <td>43</td>\n",
       "      <td>45</td>\n",
       "      <td>41</td>\n",
       "      <td>129</td>\n",
       "    </tr>\n",
       "    <tr>\n",
       "      <th>1</th>\n",
       "      <td>female</td>\n",
       "      <td>group C</td>\n",
       "      <td>high school</td>\n",
       "      <td>free/reduced</td>\n",
       "      <td>none</td>\n",
       "      <td>60</td>\n",
       "      <td>67</td>\n",
       "      <td>65</td>\n",
       "      <td>192</td>\n",
       "    </tr>\n",
       "    <tr>\n",
       "      <th>2</th>\n",
       "      <td>male</td>\n",
       "      <td>group E</td>\n",
       "      <td>high school</td>\n",
       "      <td>standard</td>\n",
       "      <td>completed</td>\n",
       "      <td>80</td>\n",
       "      <td>71</td>\n",
       "      <td>70</td>\n",
       "      <td>221</td>\n",
       "    </tr>\n",
       "    <tr>\n",
       "      <th>3</th>\n",
       "      <td>male</td>\n",
       "      <td>group C</td>\n",
       "      <td>some college</td>\n",
       "      <td>standard</td>\n",
       "      <td>none</td>\n",
       "      <td>73</td>\n",
       "      <td>71</td>\n",
       "      <td>66</td>\n",
       "      <td>210</td>\n",
       "    </tr>\n",
       "    <tr>\n",
       "      <th>4</th>\n",
       "      <td>female</td>\n",
       "      <td>group C</td>\n",
       "      <td>some college</td>\n",
       "      <td>standard</td>\n",
       "      <td>none</td>\n",
       "      <td>66</td>\n",
       "      <td>60</td>\n",
       "      <td>63</td>\n",
       "      <td>189</td>\n",
       "    </tr>\n",
       "  </tbody>\n",
       "</table>\n",
       "</div>"
      ],
      "text/plain": [
       "   gender     race parental_education    lunch_fare  test_prep  math_score  \\\n",
       "0    male  group C  bachelor's degree  free/reduced       none          43   \n",
       "1  female  group C        high school  free/reduced       none          60   \n",
       "2    male  group E        high school      standard  completed          80   \n",
       "3    male  group C       some college      standard       none          73   \n",
       "4  female  group C       some college      standard       none          66   \n",
       "\n",
       "   reading_score  writing_score  total_score  \n",
       "0             45             41          129  \n",
       "1             67             65          192  \n",
       "2             71             70          221  \n",
       "3             71             66          210  \n",
       "4             60             63          189  "
      ]
     },
     "execution_count": 13,
     "metadata": {},
     "output_type": "execute_result"
    }
   ],
   "source": [
    "data['total_score'] = data['reading_score'] + data['writing_score'] + data['math_score'] \n",
    "data.head()"
   ]
  },
  {
   "cell_type": "code",
   "execution_count": 17,
   "id": "581f0d08",
   "metadata": {},
   "outputs": [
    {
     "data": {
      "image/png": "[encoded data removed]",
      "text/plain": [
       "<Figure size 432x288 with 1 Axes>"
      ]
     },
     "metadata": {
      "needs_background": "light"
     },
     "output_type": "display_data"
    }
   ],
   "source": [
    "# plot the distribution of the total_score variable\n",
    "_ = sns.histplot(data['total_score'], bins = 18)"
   ]
  },
  {
   "cell_type": "markdown",
   "id": "bbc6d053",
   "metadata": {},
   "source": [
    "The distribution of the total score is almost normal.\n",
    "Now, I will look to how different features contribute to the outcome of the tests, using the <code>total_score</code> variable."
   ]
  },
  {
   "cell_type": "markdown",
   "id": "9bab233f",
   "metadata": {},
   "source": [
    "#### Average scores by test preparation completition\n",
    "To answer the question: what are the average total scores for students with/without the test preparation course?"
   ]
  },
  {
   "cell_type": "code",
   "execution_count": 18,
   "id": "35b705ba",
   "metadata": {},
   "outputs": [
    {
     "name": "stdout",
     "output_type": "stream",
     "text": [
      "Number of students who completed the test: 340\n",
      "Number of students who did not complete the test: 660\n"
     ]
    }
   ],
   "source": [
    "n_completed_test = (data['test_prep'] == 'completed').sum()\n",
    "print('Number of students who completed the test: {}\\nNumber of students who did not complete the test: {}'.format(\n",
    "n_completed_test, data.shape[0] - n_completed_test))"
   ]
  },
  {
   "cell_type": "code",
   "execution_count": 19,
   "id": "893d9fb4",
   "metadata": {},
   "outputs": [
    {
     "data": {
      "text/html": [
       "<div>\n",
       "<style scoped>\n",
       "    .dataframe tbody tr th:only-of-type {\n",
       "        vertical-align: middle;\n",
       "    }\n",
       "\n",
       "    .dataframe tbody tr th {\n",
       "        vertical-align: top;\n",
       "    }\n",
       "\n",
       "    .dataframe thead th {\n",
       "        text-align: right;\n",
       "    }\n",
       "</style>\n",
       "<table border=\"1\" class=\"dataframe\">\n",
       "  <thead>\n",
       "    <tr style=\"text-align: right;\">\n",
       "      <th></th>\n",
       "      <th>total_score</th>\n",
       "    </tr>\n",
       "    <tr>\n",
       "      <th>test_prep</th>\n",
       "      <th></th>\n",
       "    </tr>\n",
       "  </thead>\n",
       "  <tbody>\n",
       "    <tr>\n",
       "      <th>completed</th>\n",
       "      <td>222.668</td>\n",
       "    </tr>\n",
       "    <tr>\n",
       "      <th>none</th>\n",
       "      <td>197.659</td>\n",
       "    </tr>\n",
       "  </tbody>\n",
       "</table>\n",
       "</div>"
      ],
      "text/plain": [
       "           total_score\n",
       "test_prep             \n",
       "completed      222.668\n",
       "none           197.659"
      ]
     },
     "execution_count": 19,
     "metadata": {},
     "output_type": "execute_result"
    }
   ],
   "source": [
    "round(data.groupby('test_prep')[['total_score']].mean(), 3)"
   ]
  },
  {
   "cell_type": "code",
   "execution_count": 20,
   "id": "6d28a089",
   "metadata": {},
   "outputs": [
    {
     "data": {
      "image/png": "[encoded data removed]",
      "text/plain": [
       "<Figure size 360x360 with 1 Axes>"
      ]
     },
     "metadata": {
      "needs_background": "light"
     },
     "output_type": "display_data"
    }
   ],
   "source": [
    "_ = sns.catplot(x = 'test_prep', y = 'total_score', data = data, kind = 'bar', estimator = np.mean)\n",
    "_ = plt.title('Average total score by test preparation completition')"
   ]
  },
  {
   "cell_type": "markdown",
   "id": "8ac4b4fe",
   "metadata": {},
   "source": [
    "It seems that students who completed the test preparation course had better results on the overall scores. Let's do an hypothesis test to see if our hypothesis is correct.\n",
    "\n",
    "The results of each students are our $X_1, \\ldots, X_n$. We assume they are indipendent and identically distributed as $\\mathcal{N}(\\mu, \\sigma)$ - it seems a correct assumption as we have seen from the plot before. $\\mu$ and $\\sigma$ are unknown, thus we use the test statistic \n",
    "$$\n",
    "T = \\frac{\\bar X- \\mu_0}{S/\\sqrt{n}}\\approx t_{n-1}\n",
    "$$\n",
    "under $H_0 : \\mu > \\mu_0$, where $\\mu_0$ is the average total score of students who didn't take the test preparation course."
   ]
  },
  {
   "cell_type": "code",
   "execution_count": 21,
   "id": "6bf1d56c",
   "metadata": {},
   "outputs": [
    {
     "name": "stdout",
     "output_type": "stream",
     "text": [
      "p-value of the hypothesis test is: 8.226761321177595e-18\n",
      "We can reject the null hypothesis that mu_0 is greater or equal than mu\n"
     ]
    }
   ],
   "source": [
    "ttest = ttest_ind(data.loc[data['test_prep'] == 'completed', 'total_score'], data.loc[data['test_prep'] == 'none', 'total_score'], alternative = 'greater')\n",
    "print('p-value of the hypothesis test is: {}'.format(ttest[1]))\n",
    "print('We can reject the null hypothesis that mu_0 is greater or equal than mu')"
   ]
  },
  {
   "cell_type": "markdown",
   "id": "eb24ff0a",
   "metadata": {},
   "source": [
    "The p-value confirms our intuition that who completed the test preparation course had better results on the overall scores. "
   ]
  },
  {
   "cell_type": "markdown",
   "id": "6a73fb7c",
   "metadata": {},
   "source": [
    "#### Average scores by different parental education levels\n",
    "What are the average scores for the different parental education levels?"
   ]
  },
  {
   "cell_type": "code",
   "execution_count": 22,
   "id": "dddfa837",
   "metadata": {},
   "outputs": [
    {
     "data": {
      "text/html": [
       "<div>\n",
       "<style scoped>\n",
       "    .dataframe tbody tr th:only-of-type {\n",
       "        vertical-align: middle;\n",
       "    }\n",
       "\n",
       "    .dataframe tbody tr th {\n",
       "        vertical-align: top;\n",
       "    }\n",
       "\n",
       "    .dataframe thead th {\n",
       "        text-align: right;\n",
       "    }\n",
       "</style>\n",
       "<table border=\"1\" class=\"dataframe\">\n",
       "  <thead>\n",
       "    <tr style=\"text-align: right;\">\n",
       "      <th></th>\n",
       "      <th>reading_score</th>\n",
       "      <th>writing_score</th>\n",
       "      <th>math_score</th>\n",
       "      <th>total_score</th>\n",
       "    </tr>\n",
       "    <tr>\n",
       "      <th>parental_education</th>\n",
       "      <th></th>\n",
       "      <th></th>\n",
       "      <th></th>\n",
       "      <th></th>\n",
       "    </tr>\n",
       "  </thead>\n",
       "  <tbody>\n",
       "    <tr>\n",
       "      <th>high school</th>\n",
       "      <td>67</td>\n",
       "      <td>65</td>\n",
       "      <td>63</td>\n",
       "      <td>195</td>\n",
       "    </tr>\n",
       "    <tr>\n",
       "      <th>some college</th>\n",
       "      <td>71</td>\n",
       "      <td>70</td>\n",
       "      <td>69</td>\n",
       "      <td>210</td>\n",
       "    </tr>\n",
       "    <tr>\n",
       "      <th>bachelor's degree</th>\n",
       "      <td>72</td>\n",
       "      <td>71</td>\n",
       "      <td>68</td>\n",
       "      <td>211</td>\n",
       "    </tr>\n",
       "    <tr>\n",
       "      <th>associate's degree</th>\n",
       "      <td>72</td>\n",
       "      <td>71</td>\n",
       "      <td>68</td>\n",
       "      <td>211</td>\n",
       "    </tr>\n",
       "    <tr>\n",
       "      <th>master's degree</th>\n",
       "      <td>77</td>\n",
       "      <td>76</td>\n",
       "      <td>74</td>\n",
       "      <td>227</td>\n",
       "    </tr>\n",
       "  </tbody>\n",
       "</table>\n",
       "</div>"
      ],
      "text/plain": [
       "                    reading_score  writing_score  math_score  total_score\n",
       "parental_education                                                       \n",
       "high school                    67             65          63          195\n",
       "some college                   71             70          69          210\n",
       "bachelor's degree              72             71          68          211\n",
       "associate's degree             72             71          68          211\n",
       "master's degree                77             76          74          227"
      ]
     },
     "execution_count": 22,
     "metadata": {},
     "output_type": "execute_result"
    }
   ],
   "source": [
    "pt_scores = pd.pivot_table(data, index = 'parental_education', values = ['reading_score', 'writing_score', 'math_score', 'total_score'])\n",
    "pt_scores.sort_values('total_score', inplace = True)\n",
    "pt_scores = pt_scores.reindex(columns=['reading_score','writing_score', 'math_score','total_score'])\n",
    "pt_scores.applymap(round)"
   ]
  },
  {
   "cell_type": "code",
   "execution_count": 23,
   "id": "4fdf8227",
   "metadata": {},
   "outputs": [
    {
     "data": {
      "image/png": "[encoded data removed]",
      "text/plain": [
       "<Figure size 720x432 with 2 Axes>"
      ]
     },
     "metadata": {
      "needs_background": "light"
     },
     "output_type": "display_data"
    }
   ],
   "source": [
    "avg_scores = data.groupby('parental_education')[['reading_score', 'writing_score', 'math_score']].mean()\n",
    "avg_scores = avg_scores.sort_values('reading_score')\n",
    "\n",
    "labels = list(avg_scores.index)\n",
    "x = np.arange(len(avg_scores.index))  # the label locations\n",
    "width = 0.25  # the width of the bars\n",
    "\n",
    "fig, ax = plt.subplots(2, 1, figsize = (10, 6))\n",
    "\n",
    "g1 = ax[0].bar(x-width, avg_scores['reading_score'], width = width, label='Reading')\n",
    "g2 = ax[0].bar(x, avg_scores['writing_score'], width = width, label='Writing')\n",
    "g3 = ax[0].bar(x+width, avg_scores['math_score'], width = width, label='Math')\n",
    "\n",
    "ax[0].set_ylabel('Average score')\n",
    "ax[0].set_title('Average scores by parental education and test', fontsize = 15)\n",
    "ax[0].set_xticks(x)\n",
    "ax[0].set_xticklabels(labels)\n",
    "ax[0].set_xlabel('Parental level of education')\n",
    "ax[0].legend()\n",
    "\n",
    "avg_total = data.groupby('parental_education')['total_score'].mean()\n",
    "avg_total = avg_total.sort_values()\n",
    "g4 = sns.barplot(ax = ax[1], x = avg_total.index, y = avg_total.values)\n",
    "ax[1].set_title('Average total score by test preparation completition', fontsize = 15)\n",
    "ax[1].set_xticklabels(avg_total.index)\n",
    "ax[1].set_xlabel('Parental level of education')\n",
    "ax[1].set_ylim([190, 230])\n",
    "\n",
    "fig.tight_layout()\n",
    "plt.show()"
   ]
  },
  {
   "cell_type": "markdown",
   "id": "309aae1a",
   "metadata": {},
   "source": [
    "It seems that students whose parent has a Master's degree got higher score on average than the other, while there are no differences if the parent has an Associate's degree, Bachelor's degree or has frequented some college. Children of people with maximum an high school attendance have lower results on average than the others.\n"
   ]
  },
  {
   "cell_type": "markdown",
   "id": "c81d9915",
   "metadata": {},
   "source": [
    "#### Average scores by gender"
   ]
  },
  {
   "cell_type": "code",
   "execution_count": 24,
   "id": "ddecca95",
   "metadata": {},
   "outputs": [
    {
     "data": {
      "text/plain": [
       "female    523\n",
       "male      477\n",
       "Name: gender, dtype: int64"
      ]
     },
     "execution_count": 24,
     "metadata": {},
     "output_type": "execute_result"
    }
   ],
   "source": [
    "data.gender.value_counts()"
   ]
  },
  {
   "cell_type": "code",
   "execution_count": 25,
   "id": "4383d66a",
   "metadata": {},
   "outputs": [
    {
     "data": {
      "image/png": "[encoded data removed]",
      "text/plain": [
       "<Figure size 432x288 with 1 Axes>"
      ]
     },
     "metadata": {
      "needs_background": "light"
     },
     "output_type": "display_data"
    },
    {
     "name": "stdout",
     "output_type": "stream",
     "text": [
      "Male's average total score: 200.413\n",
      "Female's average total score: 211.405\n"
     ]
    }
   ],
   "source": [
    "fig = plt.figure()\n",
    "\n",
    "_ = sns.barplot(x = data.gender, y = data.total_score)\n",
    "_.set_ylim((180, 220))\n",
    "_.set_ylabel('Average total score')\n",
    "_.set_xlabel('Gender')\n",
    "_.set_title('Average total score by gender')\n",
    "plt.show()\n",
    "\n",
    "print(\"Male's average total score: {}\".format(round(np.mean(data.total_score.loc[data.gender == 'male']), 3)))\n",
    "print(\"Female's average total score: {}\".format(round(np.mean(data.total_score.loc[data.gender == 'female']), 3)))\n",
    "\n"
   ]
  },
  {
   "cell_type": "code",
   "execution_count": 26,
   "id": "0078e1c6",
   "metadata": {},
   "outputs": [
    {
     "data": {
      "image/png": "[encoded data removed]",
      "text/plain": [
       "<Figure size 432x360 with 2 Axes>"
      ]
     },
     "metadata": {
      "needs_background": "light"
     },
     "output_type": "display_data"
    }
   ],
   "source": [
    "fig, ax = plt.subplots(2, 1, figsize = (6, 5))\n",
    "\n",
    "male_plot = sns.histplot(data = data.loc[(data['gender'] == 'male'), 'total_score'], ax = ax[0])\n",
    "male_plot.set_title('Male', fontsize = 15)\n",
    "male_plot.set_ylabel('Number of students')\n",
    "male_plot.set_xlabel('Total score')\n",
    "\n",
    "\n",
    "female_plot = sns.histplot(data = data.loc[(data['gender'] == 'female'), 'total_score'], ax = ax[1])\n",
    "female_plot.set_title('Female', fontsize = 15)\n",
    "female_plot.set_ylabel('Number of students')\n",
    "female_plot.set_xlabel('Total score')\n",
    "\n",
    "fig.tight_layout()\n",
    "plt.show()\n"
   ]
  },
  {
   "cell_type": "markdown",
   "id": "d269cf7c",
   "metadata": {},
   "source": [
    "We can see that there are not big differences in the test results based on the gender of the student. In fact, we have that the mean of the scores are similar - almost 10 points of difference -, and the distribution of the scores are approximately the same."
   ]
  },
  {
   "cell_type": "markdown",
   "id": "cca31a8c",
   "metadata": {},
   "source": [
    "#### Average total score by race/ethnicity"
   ]
  },
  {
   "cell_type": "code",
   "execution_count": 27,
   "id": "60654c93",
   "metadata": {},
   "outputs": [
    {
     "data": {
      "text/plain": [
       "group A     85\n",
       "group B    218\n",
       "group C    298\n",
       "group D    269\n",
       "group E    130\n",
       "Name: race, dtype: int64"
      ]
     },
     "execution_count": 27,
     "metadata": {},
     "output_type": "execute_result"
    }
   ],
   "source": [
    "data.race.value_counts().sort_index()"
   ]
  },
  {
   "cell_type": "code",
   "execution_count": 28,
   "id": "c9c820f2",
   "metadata": {},
   "outputs": [
    {
     "data": {
      "image/png": "[encoded data removed]",
      "text/plain": [
       "<Figure size 720x1080 with 5 Axes>"
      ]
     },
     "metadata": {
      "needs_background": "light"
     },
     "output_type": "display_data"
    }
   ],
   "source": [
    "fig, ax = plt.subplots(5, 1, figsize = (10, 15))\n",
    "\n",
    "groupA_plot = sns.histplot(data = data.loc[(data['race'] == 'group A'), 'total_score'], ax = ax[0], bins = 20)\n",
    "_ = groupA_plot.set_title('Group A')\n",
    "_ = groupA_plot.set_xlim((0, 300))\n",
    "\n",
    "groupB_plot = sns.histplot(data = data.loc[(data['race'] == 'group B'), 'total_score'], ax = ax[1], bins = 20)\n",
    "_ = groupB_plot.set_title('Group B')\n",
    "_ = groupB_plot.set_xlim((0, 300))\n",
    "\n",
    "groupC_plot = sns.histplot(data = data.loc[(data['race'] == 'group C'), 'total_score'], ax = ax[2], bins = 20)\n",
    "_ = groupC_plot.set_title('Group C')\n",
    "_ = groupC_plot.set_xlim((0, 300))\n",
    "\n",
    "groupD_plot = sns.histplot(data = data.loc[(data['race'] == 'group D'), 'total_score'], ax = ax[3], bins = 20)\n",
    "_ = groupD_plot.set_title('Group D')\n",
    "_ = groupD_plot.set_xlim((0, 300))\n",
    "\n",
    "groupE_plot = sns.histplot(data = data.loc[(data['race'] == 'group E'), 'total_score'], ax = ax[4], bins = 20)\n",
    "_ = groupE_plot.set_title('Group E')\n",
    "_ = groupE_plot.set_xlim((0, 300))\n",
    "\n",
    "fig.tight_layout()\n"
   ]
  },
  {
   "cell_type": "code",
   "execution_count": 29,
   "id": "fba2558c",
   "metadata": {},
   "outputs": [
    {
     "data": {
      "image/png": "[encoded data removed]",
      "text/plain": [
       "<Figure size 432x288 with 1 Axes>"
      ]
     },
     "metadata": {
      "needs_background": "light"
     },
     "output_type": "display_data"
    },
    {
     "name": "stdout",
     "output_type": "stream",
     "text": [
      "Max and min total score by race\n",
      "            max        mean    min\n",
      "race                             \n",
      "group A  277.0  193.588235   71.0\n",
      "group B  289.0  197.889908   79.0\n",
      "group C  298.0  199.899329   79.0\n",
      "group D  300.0  213.501859   93.0\n",
      "group E  300.0  227.423077  133.0\n"
     ]
    }
   ],
   "source": [
    "avg_total_race = data.groupby('race')['total_score'].mean()\n",
    "_ = sns.barplot(x = avg_total_race.index, y = avg_total_race.values)\n",
    "_.set_ylim((180, 240))\n",
    "_.set_title('Average total score by race', fontsize = 12)\n",
    "_.set_xlabel('Race')\n",
    "_.set_ylabel('Average total score')\n",
    "plt.show()\n",
    "\n",
    "print('Max and min total score by race\\n', pd.pivot_table(data = data, \n",
    "                                                          index = 'race', \n",
    "                                                          values = 'total_score', \n",
    "                                                          aggfunc = (min, max, np.mean),\n",
    "                                                          ))\n"
   ]
  },
  {
   "cell_type": "markdown",
   "id": "18e2ad70",
   "metadata": {},
   "source": [
    "Here we can see that there is a huge gap between the groups  D and E total scores mean - 214 and 227 - and the groups A, B and C - 194, 198, 200. Also, the distribution are different, where the group E students scores are between 133 and 300, while all the others gropus have the minimum lower than 100. \n",
    "\n",
    "Let's implement these analysis with what we have don before."
   ]
  },
  {
   "cell_type": "code",
   "execution_count": 30,
   "id": "3ba7ee45",
   "metadata": {},
   "outputs": [
    {
     "data": {
      "text/html": [
       "<div>\n",
       "<style scoped>\n",
       "    .dataframe tbody tr th:only-of-type {\n",
       "        vertical-align: middle;\n",
       "    }\n",
       "\n",
       "    .dataframe tbody tr th {\n",
       "        vertical-align: top;\n",
       "    }\n",
       "\n",
       "    .dataframe thead tr th {\n",
       "        text-align: left;\n",
       "    }\n",
       "\n",
       "    .dataframe thead tr:last-of-type th {\n",
       "        text-align: right;\n",
       "    }\n",
       "</style>\n",
       "<table border=\"1\" class=\"dataframe\">\n",
       "  <thead>\n",
       "    <tr>\n",
       "      <th></th>\n",
       "      <th></th>\n",
       "      <th>mean</th>\n",
       "      <th>len</th>\n",
       "    </tr>\n",
       "    <tr>\n",
       "      <th></th>\n",
       "      <th></th>\n",
       "      <th>total_score</th>\n",
       "      <th>total_score</th>\n",
       "    </tr>\n",
       "    <tr>\n",
       "      <th>race</th>\n",
       "      <th>parental_education</th>\n",
       "      <th></th>\n",
       "      <th></th>\n",
       "    </tr>\n",
       "  </thead>\n",
       "  <tbody>\n",
       "    <tr>\n",
       "      <th rowspan=\"5\" valign=\"top\">group A</th>\n",
       "      <th>associate's degree</th>\n",
       "      <td>198.923077</td>\n",
       "      <td>13</td>\n",
       "    </tr>\n",
       "    <tr>\n",
       "      <th>bachelor's degree</th>\n",
       "      <td>204.571429</td>\n",
       "      <td>7</td>\n",
       "    </tr>\n",
       "    <tr>\n",
       "      <th>high school</th>\n",
       "      <td>189.744186</td>\n",
       "      <td>43</td>\n",
       "    </tr>\n",
       "    <tr>\n",
       "      <th>master's degree</th>\n",
       "      <td>207.500000</td>\n",
       "      <td>8</td>\n",
       "    </tr>\n",
       "    <tr>\n",
       "      <th>some college</th>\n",
       "      <td>187.000000</td>\n",
       "      <td>14</td>\n",
       "    </tr>\n",
       "    <tr>\n",
       "      <th rowspan=\"5\" valign=\"top\">group B</th>\n",
       "      <th>associate's degree</th>\n",
       "      <td>204.725000</td>\n",
       "      <td>40</td>\n",
       "    </tr>\n",
       "    <tr>\n",
       "      <th>bachelor's degree</th>\n",
       "      <td>207.368421</td>\n",
       "      <td>19</td>\n",
       "    </tr>\n",
       "    <tr>\n",
       "      <th>high school</th>\n",
       "      <td>179.775000</td>\n",
       "      <td>80</td>\n",
       "    </tr>\n",
       "    <tr>\n",
       "      <th>master's degree</th>\n",
       "      <td>226.590909</td>\n",
       "      <td>22</td>\n",
       "    </tr>\n",
       "    <tr>\n",
       "      <th>some college</th>\n",
       "      <td>204.280702</td>\n",
       "      <td>57</td>\n",
       "    </tr>\n",
       "    <tr>\n",
       "      <th rowspan=\"5\" valign=\"top\">group C</th>\n",
       "      <th>associate's degree</th>\n",
       "      <td>204.913043</td>\n",
       "      <td>69</td>\n",
       "    </tr>\n",
       "    <tr>\n",
       "      <th>bachelor's degree</th>\n",
       "      <td>197.785714</td>\n",
       "      <td>42</td>\n",
       "    </tr>\n",
       "    <tr>\n",
       "      <th>high school</th>\n",
       "      <td>190.715686</td>\n",
       "      <td>102</td>\n",
       "    </tr>\n",
       "    <tr>\n",
       "      <th>master's degree</th>\n",
       "      <td>219.500000</td>\n",
       "      <td>20</td>\n",
       "    </tr>\n",
       "    <tr>\n",
       "      <th>some college</th>\n",
       "      <td>204.323077</td>\n",
       "      <td>65</td>\n",
       "    </tr>\n",
       "    <tr>\n",
       "      <th rowspan=\"5\" valign=\"top\">group D</th>\n",
       "      <th>associate's degree</th>\n",
       "      <td>220.326923</td>\n",
       "      <td>52</td>\n",
       "    </tr>\n",
       "    <tr>\n",
       "      <th>bachelor's degree</th>\n",
       "      <td>213.730769</td>\n",
       "      <td>26</td>\n",
       "    </tr>\n",
       "    <tr>\n",
       "      <th>high school</th>\n",
       "      <td>201.095238</td>\n",
       "      <td>105</td>\n",
       "    </tr>\n",
       "    <tr>\n",
       "      <th>master's degree</th>\n",
       "      <td>233.650000</td>\n",
       "      <td>20</td>\n",
       "    </tr>\n",
       "    <tr>\n",
       "      <th>some college</th>\n",
       "      <td>221.666667</td>\n",
       "      <td>66</td>\n",
       "    </tr>\n",
       "    <tr>\n",
       "      <th rowspan=\"5\" valign=\"top\">group E</th>\n",
       "      <th>associate's degree</th>\n",
       "      <td>229.428571</td>\n",
       "      <td>21</td>\n",
       "    </tr>\n",
       "    <tr>\n",
       "      <th>bachelor's degree</th>\n",
       "      <td>245.529412</td>\n",
       "      <td>17</td>\n",
       "    </tr>\n",
       "    <tr>\n",
       "      <th>high school</th>\n",
       "      <td>222.117647</td>\n",
       "      <td>51</td>\n",
       "    </tr>\n",
       "    <tr>\n",
       "      <th>master's degree</th>\n",
       "      <td>242.583333</td>\n",
       "      <td>12</td>\n",
       "    </tr>\n",
       "    <tr>\n",
       "      <th>some college</th>\n",
       "      <td>218.413793</td>\n",
       "      <td>29</td>\n",
       "    </tr>\n",
       "  </tbody>\n",
       "</table>\n",
       "</div>"
      ],
      "text/plain": [
       "                                  mean         len\n",
       "                           total_score total_score\n",
       "race    parental_education                        \n",
       "group A associate's degree  198.923077          13\n",
       "        bachelor's degree   204.571429           7\n",
       "        high school         189.744186          43\n",
       "        master's degree     207.500000           8\n",
       "        some college        187.000000          14\n",
       "group B associate's degree  204.725000          40\n",
       "        bachelor's degree   207.368421          19\n",
       "        high school         179.775000          80\n",
       "        master's degree     226.590909          22\n",
       "        some college        204.280702          57\n",
       "group C associate's degree  204.913043          69\n",
       "        bachelor's degree   197.785714          42\n",
       "        high school         190.715686         102\n",
       "        master's degree     219.500000          20\n",
       "        some college        204.323077          65\n",
       "group D associate's degree  220.326923          52\n",
       "        bachelor's degree   213.730769          26\n",
       "        high school         201.095238         105\n",
       "        master's degree     233.650000          20\n",
       "        some college        221.666667          66\n",
       "group E associate's degree  229.428571          21\n",
       "        bachelor's degree   245.529412          17\n",
       "        high school         222.117647          51\n",
       "        master's degree     242.583333          12\n",
       "        some college        218.413793          29"
      ]
     },
     "execution_count": 30,
     "metadata": {},
     "output_type": "execute_result"
    }
   ],
   "source": [
    "table = pd.pivot_table(data, \n",
    "               index = ['race', 'parental_education'], \n",
    "               values = ['total_score'], aggfunc = [np.mean, len])\n",
    "\n",
    "table"
   ]
  },
  {
   "cell_type": "code",
   "execution_count": 31,
   "id": "2d1d324e",
   "metadata": {},
   "outputs": [
    {
     "data": {
      "text/html": [
       "<div>\n",
       "<style scoped>\n",
       "    .dataframe tbody tr th:only-of-type {\n",
       "        vertical-align: middle;\n",
       "    }\n",
       "\n",
       "    .dataframe tbody tr th {\n",
       "        vertical-align: top;\n",
       "    }\n",
       "\n",
       "    .dataframe thead th {\n",
       "        text-align: right;\n",
       "    }\n",
       "</style>\n",
       "<table border=\"1\" class=\"dataframe\">\n",
       "  <thead>\n",
       "    <tr style=\"text-align: right;\">\n",
       "      <th></th>\n",
       "      <th>group A</th>\n",
       "      <th>group B</th>\n",
       "      <th>group C</th>\n",
       "      <th>group D</th>\n",
       "      <th>group E</th>\n",
       "    </tr>\n",
       "  </thead>\n",
       "  <tbody>\n",
       "    <tr>\n",
       "      <th>bachelor's degree</th>\n",
       "      <td>0.082</td>\n",
       "      <td>0.087</td>\n",
       "      <td>0.141</td>\n",
       "      <td>0.097</td>\n",
       "      <td>0.131</td>\n",
       "    </tr>\n",
       "    <tr>\n",
       "      <th>high school</th>\n",
       "      <td>0.506</td>\n",
       "      <td>0.367</td>\n",
       "      <td>0.342</td>\n",
       "      <td>0.390</td>\n",
       "      <td>0.392</td>\n",
       "    </tr>\n",
       "    <tr>\n",
       "      <th>some college</th>\n",
       "      <td>0.165</td>\n",
       "      <td>0.261</td>\n",
       "      <td>0.218</td>\n",
       "      <td>0.245</td>\n",
       "      <td>0.223</td>\n",
       "    </tr>\n",
       "    <tr>\n",
       "      <th>associate's degree</th>\n",
       "      <td>0.153</td>\n",
       "      <td>0.183</td>\n",
       "      <td>0.232</td>\n",
       "      <td>0.193</td>\n",
       "      <td>0.162</td>\n",
       "    </tr>\n",
       "    <tr>\n",
       "      <th>master's degree</th>\n",
       "      <td>0.094</td>\n",
       "      <td>0.101</td>\n",
       "      <td>0.067</td>\n",
       "      <td>0.074</td>\n",
       "      <td>0.092</td>\n",
       "    </tr>\n",
       "  </tbody>\n",
       "</table>\n",
       "</div>"
      ],
      "text/plain": [
       "                    group A  group B  group C  group D  group E\n",
       "bachelor's degree     0.082    0.087    0.141    0.097    0.131\n",
       "high school           0.506    0.367    0.342    0.390    0.392\n",
       "some college          0.165    0.261    0.218    0.245    0.223\n",
       "associate's degree    0.153    0.183    0.232    0.193    0.162\n",
       "master's degree       0.094    0.101    0.067    0.074    0.092"
      ]
     },
     "execution_count": 31,
     "metadata": {},
     "output_type": "execute_result"
    }
   ],
   "source": [
    "pt = {}\n",
    "for group in np.sort(data['race'].unique()):\n",
    "    pt[group] = {}\n",
    "    mask_group = (data['race'] == str(group))\n",
    "    tot_group = data[mask_group].shape[0]\n",
    "    for level in data['parental_education'].unique():\n",
    "        mask_level = mask_group & (data['parental_education'] == str(level))\n",
    "        tot_lev = data[mask_level].shape[0]\n",
    "        pt[group][level] = round(tot_lev/tot_group, 3)\n",
    "pt = pd.DataFrame(pt)\n",
    "pt"
   ]
  },
  {
   "cell_type": "markdown",
   "id": "d10e10db",
   "metadata": {},
   "source": [
    "From this table, we can see that the **race** factor could be correlate with the **parental level of education**'s one. In fact, we have that half of people belonging to the group A has parents with at most an high school level of education, and we have seen that this category is the one with lower total score average. But, it is important to note also that people belonging to group E has higher total score average on each parental level of education category than all the others groups. Also, people from this group whose parents have at most an high school diploma have an average total score greater than people whose parents have a Master's degree belonging to others groups race - A and C - and similar to group B.\n",
    "\n",
    "Thus, I would say that the race factor could be stronger than the parental level of education's one in order to define which factor contributes the most. \n",
    "\n",
    "Finally, let's see if race influence the fact that a student took the test preparation course."
   ]
  },
  {
   "cell_type": "code",
   "execution_count": 32,
   "id": "6b9b503b",
   "metadata": {},
   "outputs": [
    {
     "data": {
      "text/html": [
       "<div>\n",
       "<style scoped>\n",
       "    .dataframe tbody tr th:only-of-type {\n",
       "        vertical-align: middle;\n",
       "    }\n",
       "\n",
       "    .dataframe tbody tr th {\n",
       "        vertical-align: top;\n",
       "    }\n",
       "\n",
       "    .dataframe thead tr th {\n",
       "        text-align: left;\n",
       "    }\n",
       "\n",
       "    .dataframe thead tr:last-of-type th {\n",
       "        text-align: right;\n",
       "    }\n",
       "</style>\n",
       "<table border=\"1\" class=\"dataframe\">\n",
       "  <thead>\n",
       "    <tr>\n",
       "      <th></th>\n",
       "      <th colspan=\"3\" halign=\"left\">mean</th>\n",
       "      <th colspan=\"3\" halign=\"left\">len</th>\n",
       "    </tr>\n",
       "    <tr>\n",
       "      <th></th>\n",
       "      <th colspan=\"3\" halign=\"left\">total_score</th>\n",
       "      <th colspan=\"3\" halign=\"left\">total_score</th>\n",
       "    </tr>\n",
       "    <tr>\n",
       "      <th>test_prep</th>\n",
       "      <th>completed</th>\n",
       "      <th>none</th>\n",
       "      <th>All</th>\n",
       "      <th>completed</th>\n",
       "      <th>none</th>\n",
       "      <th>All</th>\n",
       "    </tr>\n",
       "    <tr>\n",
       "      <th>race</th>\n",
       "      <th></th>\n",
       "      <th></th>\n",
       "      <th></th>\n",
       "      <th></th>\n",
       "      <th></th>\n",
       "      <th></th>\n",
       "    </tr>\n",
       "  </thead>\n",
       "  <tbody>\n",
       "    <tr>\n",
       "      <th>group A</th>\n",
       "      <td>206.520000</td>\n",
       "      <td>188.200000</td>\n",
       "      <td>193.588235</td>\n",
       "      <td>25</td>\n",
       "      <td>60</td>\n",
       "      <td>85</td>\n",
       "    </tr>\n",
       "    <tr>\n",
       "      <th>group B</th>\n",
       "      <td>215.835443</td>\n",
       "      <td>187.690647</td>\n",
       "      <td>197.889908</td>\n",
       "      <td>79</td>\n",
       "      <td>139</td>\n",
       "      <td>218</td>\n",
       "    </tr>\n",
       "    <tr>\n",
       "      <th>group C</th>\n",
       "      <td>215.268041</td>\n",
       "      <td>192.482587</td>\n",
       "      <td>199.899329</td>\n",
       "      <td>97</td>\n",
       "      <td>201</td>\n",
       "      <td>298</td>\n",
       "    </tr>\n",
       "    <tr>\n",
       "      <th>group D</th>\n",
       "      <td>230.322222</td>\n",
       "      <td>205.044693</td>\n",
       "      <td>213.501859</td>\n",
       "      <td>90</td>\n",
       "      <td>179</td>\n",
       "      <td>269</td>\n",
       "    </tr>\n",
       "    <tr>\n",
       "      <th>group E</th>\n",
       "      <td>242.510204</td>\n",
       "      <td>218.296296</td>\n",
       "      <td>227.423077</td>\n",
       "      <td>49</td>\n",
       "      <td>81</td>\n",
       "      <td>130</td>\n",
       "    </tr>\n",
       "    <tr>\n",
       "      <th>All</th>\n",
       "      <td>222.667647</td>\n",
       "      <td>197.659091</td>\n",
       "      <td>206.162000</td>\n",
       "      <td>340</td>\n",
       "      <td>660</td>\n",
       "      <td>1000</td>\n",
       "    </tr>\n",
       "  </tbody>\n",
       "</table>\n",
       "</div>"
      ],
      "text/plain": [
       "                 mean                                 len           \n",
       "          total_score                         total_score           \n",
       "test_prep   completed        none         All   completed none   All\n",
       "race                                                                \n",
       "group A    206.520000  188.200000  193.588235          25   60    85\n",
       "group B    215.835443  187.690647  197.889908          79  139   218\n",
       "group C    215.268041  192.482587  199.899329          97  201   298\n",
       "group D    230.322222  205.044693  213.501859          90  179   269\n",
       "group E    242.510204  218.296296  227.423077          49   81   130\n",
       "All        222.667647  197.659091  206.162000         340  660  1000"
      ]
     },
     "execution_count": 32,
     "metadata": {},
     "output_type": "execute_result"
    }
   ],
   "source": [
    "table = pd.pivot_table(data, \n",
    "               index = ['race'], \n",
    "               values = ['total_score'],\n",
    "               columns = 'test_prep', \n",
    "               aggfunc = [np.mean, len], margins = True)\n",
    "table"
   ]
  },
  {
   "cell_type": "markdown",
   "id": "065c7701",
   "metadata": {},
   "source": [
    "From this last table we can see that the average total score of group E students who do not have completed the test preparation scores is higher than the average total score of people belonging to the group A, B and C. Thus, the ethnicity seems to be the most influencer factor in the test results. \n",
    "\n",
    "If this was a real case study, I think we should do further analysis to see why results from people of one ethnicity have better results overall respect to people from another one. Some possibilities are:\n",
    "\n",
    "- Race bias from professors while evaluating exams;\n",
    "- Different opportunity to study;\n",
    "- Topic of the exams (if to closely related to one culture could be a problem for others)."
   ]
  },
  {
   "cell_type": "markdown",
   "id": "bf371f31",
   "metadata": {},
   "source": [
    "## Conclusion"
   ]
  },
  {
   "cell_type": "markdown",
   "id": "0f66e60d",
   "metadata": {},
   "source": [
    "In conclusion, we have completed some analysis on data ideally provided us by a principal of a school, and we ended up saying that the test preparation course is very important to achieve better results on the final exams - remember the t test; but that there could be a problem related to the student's race/ethnicity that has to be investigate. \n",
    "\n",
    "We also conclude that student's gender do not make such a difference on the final score, as well as the lunch fare - analysis are not included in this notebook to not make it too long.\n",
    "\n",
    "What I would suggest to the principal would be:\n",
    "- Look for race/ethnicity bias in the school - the ones listed before.\n",
    "- Improve the quantity of students that attend the test preparation course. An extreme case would be to make it mandatory, but there could be other solutions - different hours, different location, different modalities.\n",
    "\n"
   ]
  }
 ],
 "metadata": {
  "kernelspec": {
   "display_name": "Python 3",
   "language": "python",
   "name": "python3"
  },
  "language_info": {
   "codemirror_mode": {
    "name": "ipython",
    "version": 3
   },
   "file_extension": ".py",
   "mimetype": "text/x-python",
   "name": "python",
   "nbconvert_exporter": "python",
   "pygments_lexer": "ipython3",
   "version": "3.8.8"
  }
 },
 "nbformat": 4,
 "nbformat_minor": 5
}
